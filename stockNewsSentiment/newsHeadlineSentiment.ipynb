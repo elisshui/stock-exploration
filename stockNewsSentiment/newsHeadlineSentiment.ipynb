{
 "cells": [
  {
   "cell_type": "code",
   "execution_count": null,
   "metadata": {},
   "outputs": [],
   "source": [
    "# IMPORTING LIBARIES\n",
    "from urllib import response\n",
    "from urllib.request import urlopen, Request\n",
    "from bs4 import BeautifulSoup\n",
    "from nltk.sentiment.vader import SentimentIntensityAnalyzer\n",
    "import pandas as pd \n",
    "import matplotlib.pyplot as plt"
   ]
  },
  {
   "cell_type": "code",
   "execution_count": null,
   "metadata": {},
   "outputs": [],
   "source": [
    "# GETTING HTML CODE FROM WEBSITE\n",
    "finVizUrl = 'https://finviz.com/quote.ashx?t=' # general url format\n",
    "tickers = ['AMZN', 'GOOG', 'AAPL'] # list of tickers\n",
    "\n",
    "newsTables = {} # create new dictionary to store all news articles\n",
    "\n",
    "for ticker in tickers:\n",
    "    url = finVizUrl + ticker # complete URL for each ticker\n",
    "\n",
    "    req = Request(url = url, headers = {'user-agent': 'my-app'})\n",
    "    response = urlopen(req)\n",
    "\n",
    "    html = BeautifulSoup(response, 'html') # parse through html code in response (url)\n",
    "    newsTable = html.find(id = 'news-table') # gets html object of the whole table that stores the news articles for each ticker\n",
    "    newsTables[ticker] = newsTable # store table of news articles for each ticker in the correct index"
   ]
  },
  {
   "cell_type": "code",
   "execution_count": null,
   "metadata": {},
   "outputs": [],
   "source": [
    "# GETTING NEWSPAPER TITLES\n",
    "parsedData = [] # array to store all data\n",
    "\n",
    "for ticker, newsTable in newsTables.items():\n",
    "    for row in newsTable.findAll('tr'): # find all inside tag <tr>\n",
    "        title = row.a.get_text() # text inside <tr> is the newspaper headline\n",
    "        dateData = row.td.text.split(' ') # split headline obtained at each space\n",
    "\n",
    "        if len(dateData) == 1: # check formatting of dateTime of the news article\n",
    "            time = dateData[0] # if dateTime only has one 'part', only have time data\n",
    "        else:\n",
    "            date = dateData[0] # dateTime has a date portion\n",
    "            time = dateData[1] # dateTime has a time portion\n",
    "        \n",
    "        parsedData.append([ticker, date, time, title]) # store all data in array\n",
    "\n",
    "\n",
    "df = pd.DataFrame(parsedData, columns = ['ticker', 'date', 'time', 'title']) # creating dataframe to store data "
   ]
  },
  {
   "cell_type": "code",
   "execution_count": null,
   "metadata": {},
   "outputs": [],
   "source": [
    "# GETTING SENTIMENT\n",
    "vader = SentimentIntensityAnalyzer() # initialzie vader as sentiment intensity analyzer method\n",
    "\n",
    "f = lambda title: vader.polarity_scores(title)['compound'] # lambda function to return compound score of sentiment analysis for each title\n",
    "df['compound'] = df['title'].apply(f) # apply lambda function, f, on every title and store result in column, 'compound'\n",
    "df['date'] = pd.to_datetime(df.date).dt.date # converts date column Strings to datetime format\n",
    "\n",
    "plt.figure(figsize = (10, 8)) # setting up a figure of dimensions (10, 8)\n",
    "\n",
    "meanDf = df.groupby(['ticker', 'date']).mean() # calculating average of compound score per (level 1) ticker, and (level 2) date\n",
    "meanDf = meanDf.unstack() # unstacking data - put dates on x-axis\n",
    "meanDf = meanDf.xs('compound', axis = \"columns\").transpose() # take cross section of compound to remove 'label' and transpose (setting up 'table')\n",
    "\n",
    "meanDf.plot(kind = \"bar\") # plot bar graph\n",
    "plt.show() # show the bar graph  "
   ]
  }
 ],
 "metadata": {
  "kernelspec": {
   "display_name": "Python 3.9.5 64-bit",
   "language": "python",
   "name": "python3"
  },
  "language_info": {
   "name": "python",
   "version": "3.9.5"
  },
  "orig_nbformat": 4,
  "vscode": {
   "interpreter": {
    "hash": "099c61ee22483bbd1374bc1b4f9eb88a902daa72d8017615877b6cb3b2629d9c"
   }
  }
 },
 "nbformat": 4,
 "nbformat_minor": 2
}
